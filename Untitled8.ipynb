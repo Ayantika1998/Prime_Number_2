{
  "nbformat": 4,
  "nbformat_minor": 0,
  "metadata": {
    "colab": {
      "name": "Untitled8.ipynb",
      "provenance": [],
      "authorship_tag": "ABX9TyNeogm7i/fgFp2sDDSWlrC3",
      "include_colab_link": true
    },
    "kernelspec": {
      "name": "python3",
      "display_name": "Python 3"
    },
    "language_info": {
      "name": "python"
    }
  },
  "cells": [
    {
      "cell_type": "markdown",
      "metadata": {
        "id": "view-in-github",
        "colab_type": "text"
      },
      "source": [
        "<a href=\"https://colab.research.google.com/github/Ayantika1998/Prime_Number_2/blob/main/Untitled8.ipynb\" target=\"_parent\"><img src=\"https://colab.research.google.com/assets/colab-badge.svg\" alt=\"Open In Colab\"/></a>"
      ]
    },
    {
      "cell_type": "code",
      "execution_count": 7,
      "metadata": {
        "id": "ZQbGmdFTtYWT"
      },
      "outputs": [],
      "source": [
        "def Prime_Number():\n",
        " N = int(input(\"Enter a number\"))\n",
        " if N>1:\n",
        "  for i in range (2,N):\n",
        "    if (N % i) == 0:\n",
        "     print(N,\"is not a prime number\")\n",
        "     break\n",
        "    else:\n",
        "       print(N,\"is a prime number\")\n",
        " else:\n",
        "   print(N,\"is not a prime number\")\n",
        "\n",
        " \n",
        "\n"
      ]
    },
    {
      "cell_type": "code",
      "source": [
        "Prime_Number()"
      ],
      "metadata": {
        "colab": {
          "base_uri": "https://localhost:8080/"
        },
        "id": "VHj-C-cP1DlX",
        "outputId": "ceeb8e76-63a2-4e7f-ccfd-b1b6669498f1"
      },
      "execution_count": 8,
      "outputs": [
        {
          "output_type": "stream",
          "name": "stdout",
          "text": [
            "Enter a number4\n",
            "4 is not a prime number\n"
          ]
        }
      ]
    }
  ]
}